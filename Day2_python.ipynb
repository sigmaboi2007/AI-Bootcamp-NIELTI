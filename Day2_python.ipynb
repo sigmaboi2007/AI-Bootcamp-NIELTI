{
  "nbformat": 4,
  "nbformat_minor": 0,
  "metadata": {
    "colab": {
      "provenance": []
    },
    "kernelspec": {
      "name": "python3",
      "display_name": "Python 3"
    },
    "language_info": {
      "name": "python"
    }
  },
  "cells": [
    {
      "cell_type": "code",
      "source": [
        "print(\"Hello world i'm back\")"
      ],
      "metadata": {
        "colab": {
          "base_uri": "https://localhost:8080/"
        },
        "id": "wnAQgYXiD5C9",
        "outputId": "47e90724-9ad1-4d92-bfe4-e54084eaea0d"
      },
      "execution_count": 3,
      "outputs": [
        {
          "output_type": "stream",
          "name": "stdout",
          "text": [
            "Hello world i'm back\n"
          ]
        }
      ]
    },
    {
      "cell_type": "code",
      "source": [
        "a = 5\n",
        "b = -5\n",
        "print(\"The sum of the numbers is\", a+b)\n"
      ],
      "metadata": {
        "colab": {
          "base_uri": "https://localhost:8080/"
        },
        "id": "SM2mSkC6Gd-7",
        "outputId": "c26d08b6-16f3-445c-a650-5d5bca541477"
      },
      "execution_count": 6,
      "outputs": [
        {
          "output_type": "stream",
          "name": "stdout",
          "text": [
            "The sum of the numbers is 0\n"
          ]
        }
      ]
    },
    {
      "cell_type": "code",
      "source": [
        "a=int(input(\"Enter number1 \"))\n",
        "b=int(input(\"Enter number2 \"))\n",
        "c = a*b\n",
        "\n",
        "print('product of these two numbers is', c)"
      ],
      "metadata": {
        "colab": {
          "base_uri": "https://localhost:8080/"
        },
        "id": "_qcgzZ4CGf2_",
        "outputId": "ff618fb5-e89b-4161-88d9-4281e689ef1b"
      },
      "execution_count": 11,
      "outputs": [
        {
          "output_type": "stream",
          "name": "stdout",
          "text": [
            "Enter number1 8\n",
            "Enter number2 9\n",
            "product of these two numbers is 72\n"
          ]
        }
      ]
    },
    {
      "cell_type": "code",
      "source": [],
      "metadata": {
        "id": "sQtaQLQ_G2-V"
      },
      "execution_count": null,
      "outputs": []
    }
  ]
}